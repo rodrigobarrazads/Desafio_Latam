{
 "cells": [
  {
   "cell_type": "markdown",
   "id": "d9046862",
   "metadata": {},
   "source": [
    "# Desafío - Análisis lineal discriminante\n",
    "- Para realizar este desafío debes haber estudiado previamente todo el material disponibilizado correspondiente a la unidad.\n",
    "- Una vez terminado el desafío, comprime la carpeta que contiene el desarrollo de los requerimientos solicitados y sube el .zip en el LMS.\n",
    "- Desarrollo desafío:\n",
    "    - El desafío se debe desarrollar de manera Individual.\n",
    "    - Para la realización del desafío necesitarás apoyarte del archivo Apoyo Desafío - Análisis lineal discriminante."
   ]
  },
  {
   "cell_type": "markdown",
   "id": "5ff74c43",
   "metadata": {},
   "source": [
    "## Requerimientos\n",
    "Trabajaremos con una base de datos sobre clientes morosos de un banco. Dentro de ésta se registran las siguientes observaciones:\n",
    "- `default`: Variable Binaria. Registra si el cliente entró en morosidad o no.\n",
    "- `income`: Ingreso promedio declarado por el cliente.\n",
    "- `balance`: total del saldo en la cuenta de crédito.\n",
    "- `student`: Variable binaria. Registra si el cliente es estudiante o no."
   ]
  },
  {
   "cell_type": "markdown",
   "id": "cea4ea62",
   "metadata": {},
   "source": [
    "### Ejercicio 1: Preparación de ambiente de trabajo\n",
    "- Importe los módulos básicos para el análisis de datos.\n",
    "- Importe las clases `LabelEncoder`, `StandardScaler` y `LabelBinarizer` de `preprocessing`.\n",
    "- Importe las funciones `train_test_split` y `cross_val_score` de `model_selection`.\n",
    "- Importe la función `classification_report` de metrics.\n",
    "- Importe las clases `LinearDiscriminantAnalysis` y `QuadraticDiscriminantAnalysis`.\n",
    "- Agregue la base de datos en el ambiente de trabajo.\n",
    "- Inspeccione la distribución de cada atributo."
   ]
  },
  {
   "cell_type": "code",
   "execution_count": 1,
   "id": "f4705622",
   "metadata": {},
   "outputs": [
    {
     "data": {
      "text/html": [
       "<div>\n",
       "<style scoped>\n",
       "    .dataframe tbody tr th:only-of-type {\n",
       "        vertical-align: middle;\n",
       "    }\n",
       "\n",
       "    .dataframe tbody tr th {\n",
       "        vertical-align: top;\n",
       "    }\n",
       "\n",
       "    .dataframe thead th {\n",
       "        text-align: right;\n",
       "    }\n",
       "</style>\n",
       "<table border=\"1\" class=\"dataframe\">\n",
       "  <thead>\n",
       "    <tr style=\"text-align: right;\">\n",
       "      <th></th>\n",
       "      <th>default</th>\n",
       "      <th>student</th>\n",
       "      <th>balance</th>\n",
       "      <th>income</th>\n",
       "    </tr>\n",
       "  </thead>\n",
       "  <tbody>\n",
       "    <tr>\n",
       "      <th>0</th>\n",
       "      <td>No</td>\n",
       "      <td>No</td>\n",
       "      <td>729.526495</td>\n",
       "      <td>44361.625074</td>\n",
       "    </tr>\n",
       "    <tr>\n",
       "      <th>1</th>\n",
       "      <td>No</td>\n",
       "      <td>Yes</td>\n",
       "      <td>817.180407</td>\n",
       "      <td>12106.134700</td>\n",
       "    </tr>\n",
       "    <tr>\n",
       "      <th>2</th>\n",
       "      <td>No</td>\n",
       "      <td>No</td>\n",
       "      <td>1073.549164</td>\n",
       "      <td>31767.138947</td>\n",
       "    </tr>\n",
       "    <tr>\n",
       "      <th>3</th>\n",
       "      <td>No</td>\n",
       "      <td>No</td>\n",
       "      <td>529.250605</td>\n",
       "      <td>35704.493935</td>\n",
       "    </tr>\n",
       "    <tr>\n",
       "      <th>4</th>\n",
       "      <td>No</td>\n",
       "      <td>No</td>\n",
       "      <td>785.655883</td>\n",
       "      <td>38463.495879</td>\n",
       "    </tr>\n",
       "    <tr>\n",
       "      <th>...</th>\n",
       "      <td>...</td>\n",
       "      <td>...</td>\n",
       "      <td>...</td>\n",
       "      <td>...</td>\n",
       "    </tr>\n",
       "    <tr>\n",
       "      <th>9995</th>\n",
       "      <td>No</td>\n",
       "      <td>No</td>\n",
       "      <td>711.555020</td>\n",
       "      <td>52992.378914</td>\n",
       "    </tr>\n",
       "    <tr>\n",
       "      <th>9996</th>\n",
       "      <td>No</td>\n",
       "      <td>No</td>\n",
       "      <td>757.962918</td>\n",
       "      <td>19660.721768</td>\n",
       "    </tr>\n",
       "    <tr>\n",
       "      <th>9997</th>\n",
       "      <td>No</td>\n",
       "      <td>No</td>\n",
       "      <td>845.411989</td>\n",
       "      <td>58636.156984</td>\n",
       "    </tr>\n",
       "    <tr>\n",
       "      <th>9998</th>\n",
       "      <td>No</td>\n",
       "      <td>No</td>\n",
       "      <td>1569.009053</td>\n",
       "      <td>36669.112365</td>\n",
       "    </tr>\n",
       "    <tr>\n",
       "      <th>9999</th>\n",
       "      <td>No</td>\n",
       "      <td>Yes</td>\n",
       "      <td>200.922183</td>\n",
       "      <td>16862.952321</td>\n",
       "    </tr>\n",
       "  </tbody>\n",
       "</table>\n",
       "<p>10000 rows × 4 columns</p>\n",
       "</div>"
      ],
      "text/plain": [
       "     default student      balance        income\n",
       "0         No      No   729.526495  44361.625074\n",
       "1         No     Yes   817.180407  12106.134700\n",
       "2         No      No  1073.549164  31767.138947\n",
       "3         No      No   529.250605  35704.493935\n",
       "4         No      No   785.655883  38463.495879\n",
       "...      ...     ...          ...           ...\n",
       "9995      No      No   711.555020  52992.378914\n",
       "9996      No      No   757.962918  19660.721768\n",
       "9997      No      No   845.411989  58636.156984\n",
       "9998      No      No  1569.009053  36669.112365\n",
       "9999      No     Yes   200.922183  16862.952321\n",
       "\n",
       "[10000 rows x 4 columns]"
      ]
     },
     "execution_count": 1,
     "metadata": {},
     "output_type": "execute_result"
    }
   ],
   "source": [
    "# Utiliza esta celda para importar los módulos y datos\n",
    "\n",
    "import pandas as pd\n",
    "import numpy as np\n",
    "import seaborn as sns\n",
    "import matplotlib.pyplot as plt\n",
    "from sklearn.preprocessing import LabelEncoder, StandardScaler, LabelBinarizer\n",
    "from sklearn.model_selection import train_test_split, cross_val_score\n",
    "from sklearn.metrics import classification_report\n",
    "from sklearn.discriminant_analysis import LinearDiscriminantAnalysis, QuadraticDiscriminantAnalysis\n",
    "from funciones import graf_pie, hist_and_box, porcentaje_null, matriz_confusion\n",
    "import warnings\n",
    "warnings.filterwarnings('ignore')\n",
    "\n",
    "df = pd.read_csv('default_credit.csv').drop('index', axis=1)\n",
    "df"
   ]
  },
  {
   "cell_type": "code",
   "execution_count": 2,
   "id": "d7b3d96d",
   "metadata": {},
   "outputs": [
    {
     "data": {
      "image/png": "[encoded data removed]",
      "text/plain": [
       "<Figure size 432x288 with 1 Axes>"
      ]
     },
     "metadata": {},
     "output_type": "display_data"
    },
    {
     "data": {
      "image/png": "[encoded data removed]",
      "text/plain": [
       "<Figure size 432x288 with 1 Axes>"
      ]
     },
     "metadata": {},
     "output_type": "display_data"
    }
   ],
   "source": [
    "# Utiliza esta celda para inspeccinar las distribuciones de los atributos (puede usar más celdas)\n",
    "# Primero, veremos las distribuciones de las variables categóricas:\n",
    "\n",
    "for col in ['default','student']:\n",
    "    graf_pie(df, col)"
   ]
  },
  {
   "attachments": {},
   "cell_type": "markdown",
   "id": "f89f0ae4",
   "metadata": {},
   "source": [
    "**Comentarios: Claramente, vemos un desbalanceo demasiado grande en nuestra variable objetivo, donde los `no morosos` concentran aprox. el 96% de la data. Por otro lado, vemos que claramente hay mas clientes que no son estudiantes.**"
   ]
  },
  {
   "cell_type": "code",
   "execution_count": 3,
   "id": "b40f457b",
   "metadata": {},
   "outputs": [
    {
     "name": "stderr",
     "output_type": "stream",
     "text": [
      "No handles with labels found to put in legend.\n"
     ]
    },
    {
     "data": {
      "image/png": "[encoded data removed]",
      "text/plain": [
       "<Figure size 432x288 with 2 Axes>"
      ]
     },
     "metadata": {
      "needs_background": "light"
     },
     "output_type": "display_data"
    },
    {
     "name": "stderr",
     "output_type": "stream",
     "text": [
      "No handles with labels found to put in legend.\n"
     ]
    },
    {
     "data": {
      "image/png": "[encoded data removed]",
      "text/plain": [
       "<Figure size 432x288 with 2 Axes>"
      ]
     },
     "metadata": {
      "needs_background": "light"
     },
     "output_type": "display_data"
    }
   ],
   "source": [
    "# Luego, vemos las distribuciones de las variables numéricas:\n",
    "\n",
    "for col in ['balance','income']:\n",
    "    hist_and_box(df, col)"
   ]
  },
  {
   "attachments": {},
   "cell_type": "markdown",
   "id": "176b4f4b",
   "metadata": {},
   "source": [
    "**Comentarios: vemos que para la variable `balance`, existen muchos clientes con saldo 0 en la cuenta de crédito, además de presentar valores outliers cargados en su cola derecha. Para la variable `income`, vemos como pose ingreso muy concentado entre los 20.000 y 40.000, sin presentar valores outliers.**"
   ]
  },
  {
   "cell_type": "code",
   "execution_count": 4,
   "id": "a98dcb6b",
   "metadata": {},
   "outputs": [
    {
     "name": "stdout",
     "output_type": "stream",
     "text": [
      "         N_NaN  Porcentaje\n",
      "default      0         0.0\n",
      "student      0         0.0\n",
      "balance      0         0.0\n",
      "income       0         0.0\n"
     ]
    }
   ],
   "source": [
    "# Por último, vemos si es que existen datos nulos en la data\n",
    "\n",
    "porcentaje_null(df)"
   ]
  },
  {
   "attachments": {},
   "cell_type": "markdown",
   "id": "e9f184d9",
   "metadata": {},
   "source": [
    "**Comentarios: No existem datos nulos en la data.**"
   ]
  },
  {
   "cell_type": "markdown",
   "id": "c57252f2",
   "metadata": {},
   "source": [
    "### Ejercicio 2: Modelo base\n",
    "- Recuerde que los modelos de `sklearn` no soportan datos que no sean numéricos. Transforme los atributos pertinentes con `LabelEncoder`.\n",
    "- Genere muestras de validación y entrenamiento, reservando un 33% de los datos como validación.\n",
    "- Genere un modelo con `LinearDiscriminantAnalysis` sin modificar los hiper parámetros.\n",
    "- Genere métricas de evaluación utilizando `classification_report`.\n",
    "- Comente sobre cuál es el desempeño del modelo en cada clase, así como en general."
   ]
  },
  {
   "cell_type": "code",
   "execution_count": 5,
   "id": "4ca9d077",
   "metadata": {},
   "outputs": [
    {
     "data": {
      "text/html": [
       "<div>\n",
       "<style scoped>\n",
       "    .dataframe tbody tr th:only-of-type {\n",
       "        vertical-align: middle;\n",
       "    }\n",
       "\n",
       "    .dataframe tbody tr th {\n",
       "        vertical-align: top;\n",
       "    }\n",
       "\n",
       "    .dataframe thead th {\n",
       "        text-align: right;\n",
       "    }\n",
       "</style>\n",
       "<table border=\"1\" class=\"dataframe\">\n",
       "  <thead>\n",
       "    <tr style=\"text-align: right;\">\n",
       "      <th></th>\n",
       "      <th>default</th>\n",
       "      <th>student</th>\n",
       "      <th>balance</th>\n",
       "      <th>income</th>\n",
       "    </tr>\n",
       "  </thead>\n",
       "  <tbody>\n",
       "    <tr>\n",
       "      <th>0</th>\n",
       "      <td>0</td>\n",
       "      <td>0</td>\n",
       "      <td>729.526495</td>\n",
       "      <td>44361.625074</td>\n",
       "    </tr>\n",
       "    <tr>\n",
       "      <th>1</th>\n",
       "      <td>0</td>\n",
       "      <td>1</td>\n",
       "      <td>817.180407</td>\n",
       "      <td>12106.134700</td>\n",
       "    </tr>\n",
       "    <tr>\n",
       "      <th>2</th>\n",
       "      <td>0</td>\n",
       "      <td>0</td>\n",
       "      <td>1073.549164</td>\n",
       "      <td>31767.138947</td>\n",
       "    </tr>\n",
       "    <tr>\n",
       "      <th>3</th>\n",
       "      <td>0</td>\n",
       "      <td>0</td>\n",
       "      <td>529.250605</td>\n",
       "      <td>35704.493935</td>\n",
       "    </tr>\n",
       "    <tr>\n",
       "      <th>4</th>\n",
       "      <td>0</td>\n",
       "      <td>0</td>\n",
       "      <td>785.655883</td>\n",
       "      <td>38463.495879</td>\n",
       "    </tr>\n",
       "  </tbody>\n",
       "</table>\n",
       "</div>"
      ],
      "text/plain": [
       "   default  student      balance        income\n",
       "0        0        0   729.526495  44361.625074\n",
       "1        0        1   817.180407  12106.134700\n",
       "2        0        0  1073.549164  31767.138947\n",
       "3        0        0   529.250605  35704.493935\n",
       "4        0        0   785.655883  38463.495879"
      ]
     },
     "execution_count": 5,
     "metadata": {},
     "output_type": "execute_result"
    }
   ],
   "source": [
    "# Utiliza esta celda para pre procesar los datos\n",
    "\n",
    "df['default'] = LabelEncoder().fit_transform(df['default'])\n",
    "df['student'] = LabelEncoder().fit_transform(df['student'])\n",
    "\n",
    "df.head()"
   ]
  },
  {
   "cell_type": "code",
   "execution_count": 6,
   "id": "f525e5e1",
   "metadata": {},
   "outputs": [],
   "source": [
    "# Utiliza esta celda para separar las muestras\n",
    "\n",
    "df_y = df['default']\n",
    "df_x = df.drop('default', axis=1)\n",
    "\n",
    "X_train, X_test, y_train, y_test = train_test_split(df_x, df_y, test_size=0.33, random_state=13)"
   ]
  },
  {
   "cell_type": "code",
   "execution_count": 7,
   "id": "57260fe3",
   "metadata": {},
   "outputs": [],
   "source": [
    "# Utiliza esta celda para instanciar y entrenar el modelo\n",
    "\n",
    "model_lda = LinearDiscriminantAnalysis().fit(X_train,y_train)"
   ]
  },
  {
   "cell_type": "code",
   "execution_count": 8,
   "id": "5d0c532b",
   "metadata": {},
   "outputs": [
    {
     "name": "stdout",
     "output_type": "stream",
     "text": [
      "              precision    recall  f1-score   support\n",
      "\n",
      "           0       0.97      1.00      0.99      3181\n",
      "           1       0.81      0.29      0.42       119\n",
      "\n",
      "    accuracy                           0.97      3300\n",
      "   macro avg       0.89      0.64      0.70      3300\n",
      "weighted avg       0.97      0.97      0.97      3300\n",
      "\n"
     ]
    },
    {
     "data": {
      "image/png": "[encoded data removed]",
      "text/plain": [
       "<Figure size 432x288 with 2 Axes>"
      ]
     },
     "metadata": {
      "needs_background": "light"
     },
     "output_type": "display_data"
    }
   ],
   "source": [
    "# Utiliza esta celda para explorar las métricas de desempeño del modelo entrenado\n",
    "\n",
    "y_pred = model_lda.predict(X_test)\n",
    "\n",
    "print(classification_report(y_test, y_pred))\n",
    "\n",
    "matriz_confusion(y_test, y_pred)"
   ]
  },
  {
   "attachments": {},
   "cell_type": "markdown",
   "id": "5486e4b8",
   "metadata": {},
   "source": [
    "**Comentarios:**\n",
    "\n",
    "- El modelo tiene un excelente accuracy, de un 97%, casi perfecto.\n",
    "- Además, la clase mayoritaria la logra capturar de muy buena forma, con una precision de uin 97% y con un recall de casi perfecto, practicqamente de un 100%.\n",
    "- Por último, la clase que nos interesa predecir, los morosos, tiene una muy buena precision de un 81% pero un muy bajo recall, de una 29%; lo que significa que el modelo sólo logra capturar un bajo porcentaje de morosos.\n",
    "\n",
    "Esto se debe a un claro problema de desbalanceo de datos, como se aprecia en la distribucion de la variable objetivo `default`."
   ]
  },
  {
   "cell_type": "markdown",
   "id": "af4ee9d4",
   "metadata": {},
   "source": [
    "### Ejercicio 3: Refactorización 1 - información a priori\n",
    "- Dado que trabajamos con modelos generativos, podemos incluir información exógena. Para este caso agregaremos dos distribuciones (**Tip**: Revise la lectura 2 para revisar el uso del parámetro `priors`):\n",
    "    - Asumamos que hay un 50/50 de morosos y no morosos.\n",
    "    - Asumamos que hay un 60/40 de morosos y no morosos.\n",
    "- Por cada modelo, reporte las métricas de clasificación."
   ]
  },
  {
   "cell_type": "code",
   "execution_count": 9,
   "id": "1d03952d",
   "metadata": {},
   "outputs": [],
   "source": [
    "# Utiliza esta celda para entrenar los dos modelos solicitados\n",
    "\n",
    "model_lda_pri_5050 = LinearDiscriminantAnalysis(priors=[.5, .5]).fit(X_train,y_train)\n",
    "model_lda_pri_6040 = LinearDiscriminantAnalysis(priors=[.6, .4]).fit(X_train,y_train)"
   ]
  },
  {
   "cell_type": "code",
   "execution_count": 10,
   "id": "734ef2be",
   "metadata": {},
   "outputs": [
    {
     "name": "stdout",
     "output_type": "stream",
     "text": [
      "              precision    recall  f1-score   support\n",
      "\n",
      "           0       0.99      0.84      0.91      3181\n",
      "           1       0.17      0.87      0.28       119\n",
      "\n",
      "    accuracy                           0.84      3300\n",
      "   macro avg       0.58      0.85      0.60      3300\n",
      "weighted avg       0.96      0.84      0.89      3300\n",
      "\n"
     ]
    }
   ],
   "source": [
    "# Utiliza esta celda para explorar las métricas del primer modelo solicitado en este item\n",
    "\n",
    "y_pred_pri_5050 = model_lda_pri_5050.predict(X_test)\n",
    "print(classification_report(y_test, y_pred_pri_5050))"
   ]
  },
  {
   "cell_type": "code",
   "execution_count": 11,
   "id": "621ec8a8",
   "metadata": {},
   "outputs": [
    {
     "name": "stdout",
     "output_type": "stream",
     "text": [
      "              precision    recall  f1-score   support\n",
      "\n",
      "           0       0.99      0.88      0.93      3181\n",
      "           1       0.20      0.79      0.31       119\n",
      "\n",
      "    accuracy                           0.88      3300\n",
      "   macro avg       0.59      0.83      0.62      3300\n",
      "weighted avg       0.96      0.88      0.91      3300\n",
      "\n"
     ]
    }
   ],
   "source": [
    "# Utiliza esta celda para explorar las métricas del segundo modelo solicitado en este item\n",
    "\n",
    "y_pred_pri_6050 = model_lda_pri_6040.predict(X_test)\n",
    "print(classification_report(y_test, y_pred_pri_6050))"
   ]
  },
  {
   "attachments": {},
   "cell_type": "markdown",
   "id": "a2536161",
   "metadata": {},
   "source": [
    "**Comentarios**\n",
    "\n",
    "- En ambos modelos el accuracy disminuye (84% y 88% para el modelo 50/50 y 60/40 respectivamente), pero mejora la precision de la clase mayoritaria a un 99% (no morosos)\n",
    "- Para la clase de interés (morosos), si bien la precisión disminuye en ambos modelos (17% y 20% para el modelo 50/50 y 60/40 respectivamente), el recall mejora considerablemente, aunque el f1-score tambien disminuye para esta clase."
   ]
  },
  {
   "attachments": {},
   "cell_type": "markdown",
   "id": "dad91669",
   "metadata": {},
   "source": [
    "### Ejercicio 4: Refactorización 2 - oversampling\n",
    "\n",
    "**Digresión: Synthetic Over(Under)Sampling**\n",
    "- Por lo general podemos intentar aliviar el problema del desbalance de clases mediante la ponderación dentro del algoritmo. Otra alternativa es el muestreo con reemplazo dentro de los conjuntos de entrenamiento. Estos métodos clásicos se conocen como _Oversampling_ cuando repetimos registros aleatorios de la clase minoritaria, y _Undersampling_ cuando eliminamos aleatoriamente registros de la clase mayoritaria.\n",
    "<br />\n",
    "\n",
    "- Un contratiempo de estos métodos clásicos es que pueden replicar información sesgada que afecte el desempeño de generalización del modelo. Si los datos son malos, estaremos replicando estas fallas.\n",
    "<br />\n",
    "\n",
    "- Otra solución es generar ejemplos de entrenamiento sintéticos mediante el entrenamiento de ejemplos de la clase minoritaria. A grandes rasgos la solución funciona de la siguiente forma:\n",
    "    - En función a un subconjunto de datos correspondientes a la clase minoritaria, entrenamos algún modelo no supervisado o generativo como Naive Bayes, KMeans o KNearestNeighbors para generar representaciones sintéticas de los datos en el espacio de atributos de la clase específica mediante $x_{\\text{nuevo-ejemplo}} = x_i + \\lambda(x_{zi} - x_i)$ es un ejemplo de entrenamiento de la clase minoritaria, y $\\lambda$ es un parámetro de interpolación aleatorio $\\lambda \\sim \\text{Uniforme}(0, 1)$.\n",
    "<br />\n",
    "\n",
    "- Uno de los problemas más graves de esta base de datos, es el fuerte desbalance entre clases. Ahora generaremos observaciones sintéticas mediante `SMOTE` (Synthetic Minority Oversampling Technique). Para ello, debemos agregar el paquete a nuestro ambiente virtual. En nuestro terminal agregamos `conda install -c conda-forge imbalanced-learn` (puede también usar una celda de código de Jupyter Notebook anteponiendo `!`. Alternativamente también se puede usar `pip install imbalanced-learn`). Incorpore `SMOTE` en el ambiente de trabajo con la siguiente sintáxis `from imblearn.over_sampling import SMOTE`.\n",
    "<br />\n",
    "\n",
    "- Para implementar oversampling, debemos generar nuevos objetos que representan nuestra muestra de entrenamiento incrementada artificialmente. Para ello implemente la siguiente sintaxis:\n",
    "```python\n",
    "from imblearn.over_sampling import SMOTE\n",
    "# Instanciamos la clase\n",
    "oversampler = SMOTE(random_state=11238, ratio='minority')\n",
    "# generamos el oversampling de los datos de entrenamiento\n",
    "X_train_oversamp, y_train_oversamp = oversampler.fit_sample(X_train, y_train)\n",
    "```"
   ]
  },
  {
   "cell_type": "markdown",
   "id": "bfe14b50",
   "metadata": {},
   "source": [
    "- Vuelva a entrenar el modelo con los datos aumentados de forma artificial y comente sobre su desempeño."
   ]
  },
  {
   "cell_type": "code",
   "execution_count": 12,
   "id": "409d66dc",
   "metadata": {},
   "outputs": [
    {
     "name": "stdout",
     "output_type": "stream",
     "text": [
      "y_train antes de aplicar SMOTE:  Counter({0: 6486, 1: 214})\n",
      "y_train despues de aplicar SMOTE:  Counter({0: 6486, 1: 6486})\n"
     ]
    }
   ],
   "source": [
    "# Utiliza esta celda para aplicar oversampling\n",
    "\n",
    "from imblearn.over_sampling import SMOTE\n",
    "from collections import Counter\n",
    "\n",
    "oversample = SMOTE(sampling_strategy='minority', random_state=13)\n",
    "\n",
    "X_train_oversamp, y_train_oversamp = oversample.fit_resample(X_train, y_train)\n",
    "\n",
    "print(\"y_train antes de aplicar SMOTE: \", Counter(y_train))\n",
    "print(\"y_train despues de aplicar SMOTE: \", Counter(y_train_oversamp))"
   ]
  },
  {
   "cell_type": "code",
   "execution_count": 13,
   "id": "da7bfa8e",
   "metadata": {},
   "outputs": [],
   "source": [
    "# Utiliza esta celda para entrenar el modelo con datos oversampleados\n",
    "\n",
    "model_lda_smote = LinearDiscriminantAnalysis().fit(X_train_oversamp,y_train_oversamp)"
   ]
  },
  {
   "cell_type": "code",
   "execution_count": 14,
   "id": "932d7607",
   "metadata": {},
   "outputs": [
    {
     "name": "stdout",
     "output_type": "stream",
     "text": [
      "              precision    recall  f1-score   support\n",
      "\n",
      "           0       0.99      0.84      0.91      3181\n",
      "           1       0.17      0.87      0.29       119\n",
      "\n",
      "    accuracy                           0.84      3300\n",
      "   macro avg       0.58      0.85      0.60      3300\n",
      "weighted avg       0.96      0.84      0.89      3300\n",
      "\n"
     ]
    }
   ],
   "source": [
    "# Utiliza esta celda para evaluar las métricas de desempeño del modelo con datos oversampleados\n",
    "\n",
    "y_pred_lda_smote = model_lda_smote.predict(X_test)\n",
    "\n",
    "print(classification_report(y_test, y_pred_lda_smote))"
   ]
  },
  {
   "attachments": {},
   "cell_type": "markdown",
   "id": "842d05ad",
   "metadata": {},
   "source": [
    "**Comentarios**\n",
    "\n",
    "- Tanto el accuracy del modelo como la precision y recall para cada una de las clases, se mantiene de la misma forma que el modelo donde asumimos que hay un 50/50 de morosos y no morosos. Por lo que no hay ninguna mejora."
   ]
  },
  {
   "cell_type": "markdown",
   "id": "38be4383",
   "metadata": {},
   "source": [
    "### Ejercicio 5: Refactorización 3 - QDA\n",
    "- Por último, implemente un modelo `QuadraticDiscriminantAnalysis` con los datos aumentados artificialmente. Genere las métricas de desempeño.\n",
    "- Comente a grandes rasgos sobre el mejor modelo en su capacidad predictiva."
   ]
  },
  {
   "cell_type": "code",
   "execution_count": 15,
   "id": "54f60ac2",
   "metadata": {},
   "outputs": [],
   "source": [
    "# Utiliza esta celda para entrenar el modelo QDA\n",
    "\n",
    "model_qda_smote = QuadraticDiscriminantAnalysis().fit(X_train_oversamp,y_train_oversamp)"
   ]
  },
  {
   "cell_type": "code",
   "execution_count": 16,
   "id": "ad2c55dc",
   "metadata": {},
   "outputs": [
    {
     "name": "stdout",
     "output_type": "stream",
     "text": [
      "              precision    recall  f1-score   support\n",
      "\n",
      "           0       0.99      0.88      0.93      3181\n",
      "           1       0.20      0.81      0.32       119\n",
      "\n",
      "    accuracy                           0.87      3300\n",
      "   macro avg       0.59      0.84      0.62      3300\n",
      "weighted avg       0.96      0.87      0.91      3300\n",
      "\n"
     ]
    }
   ],
   "source": [
    "# Utiliza esta celda para explorar las métricas de desmepeño del modelo QDA\n",
    "\n",
    "y_pred_qda_smote = model_qda_smote.predict(X_test)\n",
    "\n",
    "print(classification_report(y_test, y_pred_qda_smote))"
   ]
  },
  {
   "attachments": {},
   "cell_type": "markdown",
   "id": "4b382b29",
   "metadata": {},
   "source": [
    "**Comentarios**\n",
    "\n",
    "- Si bien ahora el accuracy aumentó, no es mejor que el primer modelo generado\n",
    "- Tanto la precision, recall y f1-score para la clase no morosos, no son mejores que el primer modelo generado (salvo por la precision, donde en el primer modelo era de 87% y en este ultimo modelo es de 99%)\n",
    "- Para la clase de interés (morosos), solo el recall mejora con respecto al modelo mabe (primer modelo)\n",
    "\n",
    "### Observaciones generales :\n",
    "\n",
    "Se consideró que el objetivo del modelo debe ser predecir a clientes morosos. En base a esta clase de interés, mejor modelo es el modelo base.\n",
    "En los modelos refactorizados aparece un claro balance entre la presición y el recall, para la predicción de morosos, a medifa que el recall aumentó, disminuía la precisión."
   ]
  },
  {
   "cell_type": "code",
   "execution_count": null,
   "id": "e5b58bb6",
   "metadata": {},
   "outputs": [],
   "source": []
  }
 ],
 "metadata": {
  "kernelspec": {
   "display_name": "Python 3",
   "language": "python",
   "name": "python3"
  },
  "language_info": {
   "codemirror_mode": {
    "name": "ipython",
    "version": 3
   },
   "file_extension": ".py",
   "mimetype": "text/x-python",
   "name": "python",
   "nbconvert_exporter": "python",
   "pygments_lexer": "ipython3",
   "version": "3.6.8"
  },
  "vscode": {
   "interpreter": {
    "hash": "3bdfc9259a895d0928a4ae2f6847af189aa6726de5ec3e388785c2fb28cb2e34"
   }
  }
 },
 "nbformat": 4,
 "nbformat_minor": 5
}
