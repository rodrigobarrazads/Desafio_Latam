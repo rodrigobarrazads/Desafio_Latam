{
 "cells": [
  {
   "attachments": {},
   "cell_type": "markdown",
   "metadata": {},
   "source": [
    "<h1 style=\"text-align: center;\"><font color='green'>Prueba 1: Análisis de Sentimientos de Twitter</font></h1>\n",
    "\n",
    "## <font color='green'>**Contexto**</font>\n",
    "\n",
    "A continuación se presenta un problema clásico en el análisis de texto: *Extraer la polaridad de sentimiento asociado a un texto*. \n",
    "\n",
    "Para esto, utilizaremos una base de datos provenientes de CrowdFlower que se entrega como archivo adjunto para esta prueba bajo el nombre de `training_tweets.csv`. \n",
    "\n",
    "Para descargar los datos puede ejecutar el siguiente código:\n",
    "\n",
    "`https://www.crowdflower.com/wp-content/uploads/2016/07/text_emotion.csv`\n",
    "\n",
    "El objetivo general de esta prueba es alcanzar el mejor desempeño posible para clasificar si un tweet tiene una polaridad positiva o negativa en cuanto al sentimiento que expresa.\n",
    "\n",
    "Para medir el desempeño, se evaluará con un conjunto de datos del cuál no tendrán acceso. De esta manera evitaremos que los modelos aprendan información sobre el conjunto de validación."
   ]
  },
  {
   "attachments": {},
   "cell_type": "markdown",
   "metadata": {},
   "source": [
    "## <font color='green'>**Consideraciones**</font>\n",
    "Nos interesa trabajar con dos tipos de emociones: positivas o negativas. Para ello deberá generar la recodificación de cada una de las clases en una de las dos emociones:\n",
    "\n",
    "| Original | Recodificación |\n",
    "|-----:|------------|\n",
    "| worry | Negativa |\n",
    "| happiness | Positiva |\n",
    "| sadness | Negativa |\n",
    "| love | Positiva |\n",
    "| surprise | Positiva |\n",
    "| fun | Positiva |\n",
    "| relief | Positiva |\n",
    "| hate | Negativa |\n",
    "| empty | Negativa |\n",
    "| enthusiasm | Positiva |\n",
    "| boredom | Negativa |\n",
    "| anger | Negativa |\n",
    "\n",
    "Si el tweet está asignado como neutral, clasifíquelo aleatoriamente entre positivo o negativo."
   ]
  },
  {
   "attachments": {},
   "cell_type": "markdown",
   "metadata": {},
   "source": [
    "## <font color='green'>**Hito 1:**</font>"
   ]
  },
  {
   "attachments": {},
   "cell_type": "markdown",
   "metadata": {},
   "source": [
    "#### **<font color='green'>Entendimiento del problema</font>**\n",
    "\n",
    "El análisis de sentimientos en Twiter es un problema del campo de la clasificación, existe abundante evidencia en la literatura que busca dar respuesta a este problema.\n",
    "\n",
    "En concreto el desafío consiste en generar una clasificación binaria de los Twits, determinando si estos son positivos o negativos, dado que no existe interés en identificar algún sentimeinto por sobre otro, nuestra métrica de desempeño será `f1-score`, ponderando así el resultado de Precisión y Recall considerando así un eventual desequilibrio entre las clases.\n",
    "\n",
    "Para poder realizar el análisis, es necesario importar algunas librerias clásicas con las que trabajaremos, por ejemplo:\n",
    "- Se importarán librerias de manipulación de datos como `pandas==1.1.5` y `numpy==1.19.5`\n",
    "- librerías para realizar visualizaciones como `matplotlib==3.3.4` y `seaborn==0.11.2`\n",
    "- librerías relacionadas con el modelamiento como `scikit-learn==0.24.2` junto con las métricas asociadas a la clasificación y separación de datos; y funciones asociadas a NLP como `CountVectorizer`"
   ]
  },
  {
   "attachments": {},
   "cell_type": "markdown",
   "metadata": {},
   "source": [
    "#### **<font color='green'>Propuesta metodológica</font>**\n",
    "\n",
    "Para realizar el análisis, se procederá con la siguiente metodología de trabajo:\n",
    "\n",
    "El trabajo comenzará con un análisis exploratorio será el análisis de datos perdidos, luego con un análisis exploratorio de los datos, identificando la estructura y extensión de la base de datos, la frecuencia de palabras, identificando aquellas más utilizadas en nuestro conjunto de tweets, analizaremos la extensión de carácteres de los tweets, el trabajo exploratorio también analizará la composición de la variable dependiente previo a su agrupación\n",
    "\n",
    "El trabajo continuará con el preprocesamiento de los datos, lo cual nos permitirá limpiar y estructurar la base de datos de manera tal que podamos trabajar en ella, bajo las configuraciones exigidas por los algoritmos. En general algunas de las técnicas más habituales para los trabajos de procesamiento de lenguaje natural (NLP) son identificación de stopwords, procesos de Lematización, stemming y tokenización. En el desarrollo de este trabajo implmentaremos algunas de estas técnicas con la finalidad de aumentar la precisión de nuestros mododel. El trabajo continuará con la recodificación de los atributos de nuestra variable dependiente, para lo cual recodificaremos los distintos atributos que toma la variable sentimiento, con la finalidad de reducirlo a positivo o negativo, posteriormente esta columna será binarizada para poder trabajar con los modelos, de igual manera se eliminará la columna del ID del Twit junto con el autor de este, dado que esto no genera valor para nuestros modelos.\n",
    "\n",
    "Finalmante con la data depurada, comenzaremos a desarrollar cada uno nuestros modelos,  posteriormente comparar sus resultados y definiremos los dos más efectivos en la identificación de los sentimientos de los tweets.\n",
    "\n",
    "Como nos encontramos frente a un problema de clasificación, debemos ocupar métricas que estén asociadas a problemas de clasificación. Ahora, dependiendo que tan balanceado estén las categorías de nuestro target, es que ocuparemos diferentes métricas para evaluar nuestro modelo y predicciones (Todas estas métricas se obtendrán de la librería `sklearn`):\n",
    "- Si nuestra variable objetivo no presenta problemas de desbalanceo, ocuparemos las siguientes métricas:\n",
    "    - `accuracy` \n",
    "    - `precision`\n",
    "    - `curva ROC y AUC`\n",
    "- Si nuestra variable objetivo presenta problemas de desbalanceo, ocuparemos las siguientes métricas\n",
    "    - `precision`\n",
    "    - `recall`\n",
    "    - `f1-score`"
   ]
  },
  {
   "attachments": {},
   "cell_type": "markdown",
   "metadata": {},
   "source": [
    "#### **<font color='green'>Modelos y grillas a implementar</font>**\n",
    "\n",
    "Por lo mencionado en los enunciado, debemos realizar al menos 5 modelos para la predicción de los sentimientos. Dado que nos encontramos ante un problema de clasificación, proponemos los siguientes modelos a implementar:\n",
    "\n",
    "- `LogisticRegression`: \n",
    "    - *penalty*: l1, l2, elasticnet, None\n",
    "    - *C*: [0.01, 1, 100]\n",
    "- `MultinomialNB`: \n",
    "    - *alpha*: [0.0001, 0.1, 10]\n",
    "- `RandomForestClassifier`:\n",
    "    - *max_features*: None, log2, sqrt\n",
    "    - *n_estimators*: Evaluar entre 20 y 1000 en pasos de 50\n",
    "- `SVC`:\n",
    "    - *C*: [0.001, 0.01, 0.1, 1, 10, 100, 1000]\n",
    "    - *gamma*: [0.0001, 0.001, 0.01, 0.1, 1, 10]\n",
    "    - *cv*: 10\n",
    "- `GradientBoostingClassifier`:\n",
    "    - *learning_rate*: [0.01, 0.1, 0.5],\n",
    "    - *n_estimators*: [50, 100, 500, 1000, 2000],\n",
    "    - *subsample*: [0.1,0.5,0.9]\n",
    "\n",
    "además, en caso de ameritarlo, se ocupará el parámetro `class_weight` si tenemos nuestro dataset desbalanceado."
   ]
  },
  {
   "attachments": {},
   "cell_type": "markdown",
   "metadata": {},
   "source": [
    "#### **<font color='green'>Estudio del vector objetivo</font>**\n",
    "\n",
    "Para el estudio de la variable objetivo, primero cargaremos las librerias necesarias y el dataset. Despues nos centraremos en el analisis de la variable `sentiment` que es nuestro vector objetivo que posteriormente debemos convertirla en una variable binaria 0 y 1:"
   ]
  },
  {
   "cell_type": "code",
   "execution_count": 1,
   "metadata": {},
   "outputs": [
    {
     "data": {
      "text/html": [
       "<div>\n",
       "<style scoped>\n",
       "    .dataframe tbody tr th:only-of-type {\n",
       "        vertical-align: middle;\n",
       "    }\n",
       "\n",
       "    .dataframe tbody tr th {\n",
       "        vertical-align: top;\n",
       "    }\n",
       "\n",
       "    .dataframe thead th {\n",
       "        text-align: right;\n",
       "    }\n",
       "</style>\n",
       "<table border=\"1\" class=\"dataframe\">\n",
       "  <thead>\n",
       "    <tr style=\"text-align: right;\">\n",
       "      <th></th>\n",
       "      <th>content</th>\n",
       "      <th>sentiment</th>\n",
       "    </tr>\n",
       "  </thead>\n",
       "  <tbody>\n",
       "    <tr>\n",
       "      <th>0</th>\n",
       "      <td>Happy Mama's day to all mothers</td>\n",
       "      <td>love</td>\n",
       "    </tr>\n",
       "    <tr>\n",
       "      <th>1</th>\n",
       "      <td>@LysdelTellez I am lost. Please help me find a...</td>\n",
       "      <td>worry</td>\n",
       "    </tr>\n",
       "    <tr>\n",
       "      <th>2</th>\n",
       "      <td>@BoomKatt yes yes I AM, networking whore to th...</td>\n",
       "      <td>happiness</td>\n",
       "    </tr>\n",
       "    <tr>\n",
       "      <th>3</th>\n",
       "      <td>you@snapplynn Wish that would have been your t...</td>\n",
       "      <td>neutral</td>\n",
       "    </tr>\n",
       "    <tr>\n",
       "      <th>4</th>\n",
       "      <td>now i am doing the MicroEconomics project  iha...</td>\n",
       "      <td>worry</td>\n",
       "    </tr>\n",
       "    <tr>\n",
       "      <th>...</th>\n",
       "      <td>...</td>\n",
       "      <td>...</td>\n",
       "    </tr>\n",
       "    <tr>\n",
       "      <th>29995</th>\n",
       "      <td>I  do not want to work tomorrow!</td>\n",
       "      <td>sadness</td>\n",
       "    </tr>\n",
       "    <tr>\n",
       "      <th>29996</th>\n",
       "      <td>@KandyBee we shuld do  a dance like that its s...</td>\n",
       "      <td>fun</td>\n",
       "    </tr>\n",
       "    <tr>\n",
       "      <th>29997</th>\n",
       "      <td>Photo: Got my prints a few days ago, ready for...</td>\n",
       "      <td>happiness</td>\n",
       "    </tr>\n",
       "    <tr>\n",
       "      <th>29998</th>\n",
       "      <td>@tove_liden Thanks for the follow Tove!</td>\n",
       "      <td>fun</td>\n",
       "    </tr>\n",
       "    <tr>\n",
       "      <th>29999</th>\n",
       "      <td>@esmeeworld thanks</td>\n",
       "      <td>neutral</td>\n",
       "    </tr>\n",
       "  </tbody>\n",
       "</table>\n",
       "<p>30000 rows × 2 columns</p>\n",
       "</div>"
      ],
      "text/plain": [
       "                                                 content  sentiment\n",
       "0                        Happy Mama's day to all mothers       love\n",
       "1      @LysdelTellez I am lost. Please help me find a...      worry\n",
       "2      @BoomKatt yes yes I AM, networking whore to th...  happiness\n",
       "3      you@snapplynn Wish that would have been your t...    neutral\n",
       "4      now i am doing the MicroEconomics project  iha...      worry\n",
       "...                                                  ...        ...\n",
       "29995                   I  do not want to work tomorrow!    sadness\n",
       "29996  @KandyBee we shuld do  a dance like that its s...        fun\n",
       "29997  Photo: Got my prints a few days ago, ready for...  happiness\n",
       "29998            @tove_liden Thanks for the follow Tove!        fun\n",
       "29999                                 @esmeeworld thanks    neutral\n",
       "\n",
       "[30000 rows x 2 columns]"
      ]
     },
     "execution_count": 1,
     "metadata": {},
     "output_type": "execute_result"
    }
   ],
   "source": [
    "# Importamos las librerías clasicas\n",
    "\n",
    "import pandas as pd\n",
    "import numpy as np\n",
    "import matplotlib.pyplot as plt\n",
    "import seaborn as sns\n",
    "import random\n",
    "import warnings\n",
    "from funciones import porcentaje_null\n",
    "\n",
    "# Para filtrar los warnings\n",
    "warnings.filterwarnings('ignore')\n",
    "\n",
    "# Cargamos los datos de entrenamiento y de test\n",
    "df = pd.read_csv('training_tweets.csv').drop(columns='Unnamed: 0')\n",
    "df"
   ]
  },
  {
   "cell_type": "code",
   "execution_count": 2,
   "metadata": {},
   "outputs": [
    {
     "data": {
      "text/plain": [
       "neutral       0.215033\n",
       "worry         0.211233\n",
       "happiness     0.131733\n",
       "sadness       0.128967\n",
       "love          0.096933\n",
       "surprise      0.053967\n",
       "fun           0.044367\n",
       "relief        0.038600\n",
       "hate          0.032500\n",
       "empty         0.020567\n",
       "enthusiasm    0.018633\n",
       "boredom       0.004500\n",
       "anger         0.002967\n",
       "Name: sentiment, dtype: float64"
      ]
     },
     "execution_count": 2,
     "metadata": {},
     "output_type": "execute_result"
    },
    {
     "data": {
      "image/png": "[encoded data removed]",
      "text/plain": [
       "<Figure size 1080x360 with 1 Axes>"
      ]
     },
     "metadata": {
      "needs_background": "light"
     },
     "output_type": "display_data"
    }
   ],
   "source": [
    "# Revisamos la distribución de la variable objetivo\n",
    "\n",
    "plt.figure(figsize=(15,5))\n",
    "\n",
    "# Graficamos la cantidad de datos por categoria\n",
    "sns.countplot(data=df, x='sentiment', palette = 'Blues_r', order = df['sentiment'].value_counts().index)\n",
    "\n",
    "# Revisamos la proporcion entre estas categorias\n",
    "df['sentiment'].value_counts(normalize=True)"
   ]
  },
  {
   "attachments": {},
   "cell_type": "markdown",
   "metadata": {},
   "source": [
    "Observamos que el sentimiento más frecuente es el `neutral`, lo cual no es ni un sentimiento positivo ni negativo, en segundo lugar vemos que practicamente con la misma frecuencia se encuentra el sentimiento `worry`, el cual es un sentimiento negativo, por ultimo, en el 3er lugar se encuentra el sentimiento `happiness` el cual es un sentimiento positivo."
   ]
  },
  {
   "attachments": {},
   "cell_type": "markdown",
   "metadata": {},
   "source": [
    "#### **<font color='green'>Estudio de datos nulos</font>**\n",
    "\n",
    "Para ver la cantidad de nulos en el dataset, llamaremos a la función creada llamada `porcentaje_null` la cual reporta la cantidad del datos perdidos por columna y el porcentaje que representa"
   ]
  },
  {
   "cell_type": "code",
   "execution_count": 3,
   "metadata": {},
   "outputs": [
    {
     "name": "stdout",
     "output_type": "stream",
     "text": [
      "           N_NaN  Porcentaje\n",
      "content        0         0.0\n",
      "sentiment      0         0.0\n"
     ]
    }
   ],
   "source": [
    "porcentaje_null(df)"
   ]
  },
  {
   "attachments": {},
   "cell_type": "markdown",
   "metadata": {},
   "source": [
    "Claramente, no hay registros nulos en nuestro set de datos, por lo que no es necesario eliminar ni filas ni columnas ni reemplazar estos valores."
   ]
  },
  {
   "attachments": {},
   "cell_type": "markdown",
   "metadata": {},
   "source": [
    "#### **<font color='green'>Recodificación del vector objetivo</font>**\n",
    "\n",
    "Como nos encontramos en un problema de clasificación binaria, debemos recodificar las variables como sentimineto `positivo` o `negativo`, por lo cual, con la lista entregada en el desafio, realizamos el reemplazo segun corresponda para cada palabra:"
   ]
  },
  {
   "cell_type": "code",
   "execution_count": 4,
   "metadata": {},
   "outputs": [
    {
     "data": {
      "text/plain": [
       "negativa    12022\n",
       "positiva    11527\n",
       "neutral      6451\n",
       "Name: sentiment, dtype: int64"
      ]
     },
     "execution_count": 4,
     "metadata": {},
     "output_type": "execute_result"
    }
   ],
   "source": [
    "# Procedemos a realizar la recodificación de la variable objetivo sentiment\n",
    "\n",
    "# Listamos los sentimientos que corresponden a emociones negativas o positivas\n",
    "negativa = [\"worry\",\"sadness\",\"hate\",\"empty\",\"boredom\",\"anger\"]\n",
    "positiva = [\"happiness\",\"love\",\"surprise\",\"fun\",\"relief\",\"enthusiasm\"]\n",
    "\n",
    "# Sustituimos dichos sentimientos\n",
    "df['sentiment'] = df['sentiment'].replace(negativa,'negativa')\n",
    "df['sentiment'] = df['sentiment'].replace(positiva,'positiva')\n",
    "\n",
    "# Mostramos la distribución sin randomizar los sentimientos nuetros\n",
    "df['sentiment'].value_counts()"
   ]
  },
  {
   "cell_type": "code",
   "execution_count": 5,
   "metadata": {},
   "outputs": [
    {
     "data": {
      "text/plain": [
       "negativa    15200\n",
       "positiva    14800\n",
       "Name: sentiment, dtype: int64"
      ]
     },
     "execution_count": 5,
     "metadata": {},
     "output_type": "execute_result"
    }
   ],
   "source": [
    "# Para las emociones neutras, las clasificamos de forma aleatoria\n",
    "\n",
    "random.seed(13)\n",
    "df['sentiment'] = df['sentiment'].apply(lambda x: x.replace('neutral',random.choice(['positiva','negativa'])))\n",
    "\n",
    "# Mostramos como quedó la distribución de esta\n",
    "df['sentiment'].value_counts()"
   ]
  },
  {
   "attachments": {},
   "cell_type": "markdown",
   "metadata": {},
   "source": [
    "Al realizar la recodificación, vemos como quedo bastante equilibrado nuestra variable objetivo ya que practicamente tienen la misma proporción. Por último, le damos la recodificación adecuada dejandola con los valores 1 y 0 para valores positivos y negativos respectivamente."
   ]
  },
  {
   "cell_type": "code",
   "execution_count": 6,
   "metadata": {},
   "outputs": [
    {
     "data": {
      "text/plain": [
       "0    15200\n",
       "1    14800\n",
       "Name: sentiment, dtype: int64"
      ]
     },
     "execution_count": 6,
     "metadata": {},
     "output_type": "execute_result"
    }
   ],
   "source": [
    "# Recodificamos en 0 y 1\n",
    "\n",
    "df['sentiment'] = df['sentiment'].replace(['positiva','negativa'],[1,0])\n",
    "df['sentiment'].value_counts()"
   ]
  },
  {
   "cell_type": "code",
   "execution_count": null,
   "metadata": {},
   "outputs": [],
   "source": []
  },
  {
   "cell_type": "code",
   "execution_count": null,
   "metadata": {},
   "outputs": [],
   "source": []
  }
 ],
 "metadata": {
  "kernelspec": {
   "display_name": "Python 3.6.8 64-bit",
   "language": "python",
   "name": "python3"
  },
  "language_info": {
   "codemirror_mode": {
    "name": "ipython",
    "version": 3
   },
   "file_extension": ".py",
   "mimetype": "text/x-python",
   "name": "python",
   "nbconvert_exporter": "python",
   "pygments_lexer": "ipython3",
   "version": "3.6.8"
  },
  "orig_nbformat": 4,
  "vscode": {
   "interpreter": {
    "hash": "3bdfc9259a895d0928a4ae2f6847af189aa6726de5ec3e388785c2fb28cb2e34"
   }
  }
 },
 "nbformat": 4,
 "nbformat_minor": 2
}
